{
 "cells": [
  {
   "cell_type": "markdown",
   "id": "8ea52164-40b9-4f7c-ac9d-ac2365fe7c2d",
   "metadata": {},
   "source": [
    "# Heading level 1\n",
    "Data Science Tools and Ecosystem"
   ]
  },
  {
   "cell_type": "markdown",
   "id": "678b4158-83c2-4e66-8b90-3b58671b20d6",
   "metadata": {},
   "source": [
    "In this notebook, Data Science Tools and Ecosystem are summarized."
   ]
  },
  {
   "cell_type": "markdown",
   "id": "e54ba183-1379-4073-b320-c5af8661f34d",
   "metadata": {},
   "source": [
    "Some of the popular languages that Data Scientists use are:\n",
    "1. Python\n",
    "2. R\n",
    "3. SQL\n"
   ]
  },
  {
   "cell_type": "markdown",
   "id": "3c8b9178-212d-4e01-9d61-0fde279f76d2",
   "metadata": {},
   "source": [
    "Some of the commonly used libraries used by Data Scientists include:\n",
    "\n",
    "- NumPy\n",
    "- Matpoltib\n",
    "- Pandas"
   ]
  },
  {
   "cell_type": "markdown",
   "id": "b0928045-4b00-4e9f-af3d-9600abcc861a",
   "metadata": {},
   "source": [
    "| Data Science Tools|\n",
    " ------------------\n",
    "|     Jupyter Notebooks      |\n",
    "|      Zeppelin Notebooks     |\n",
    "|     R Studio's       |"
   ]
  },
  {
   "cell_type": "markdown",
   "id": "cc3c8b0a-23f3-46d6-83cf-21cb32d5c56b",
   "metadata": {},
   "source": [
    "# Headin level 3\n",
    "Below are a few examples of evaluating arithmetic expressions in Python."
   ]
  },
  {
   "cell_type": "code",
   "execution_count": 1,
   "id": "9505a020-0caf-482e-9306-9f98b93da9f1",
   "metadata": {},
   "outputs": [
    {
     "data": {
      "text/plain": [
       "17"
      ]
     },
     "execution_count": 1,
     "metadata": {},
     "output_type": "execute_result"
    }
   ],
   "source": [
    "(3*4)+5"
   ]
  },
  {
   "cell_type": "markdown",
   "id": "ce000122-cb16-4e90-9496-6f4c272cb858",
   "metadata": {},
   "source": [
    " This will convert 200 minutes to hours by diving by 60."
   ]
  },
  {
   "cell_type": "code",
   "execution_count": 2,
   "id": "e7c11902-71d5-4f16-bc21-6f598697c4f4",
   "metadata": {},
   "outputs": [
    {
     "data": {
      "text/plain": [
       "3.3333333333333335"
      ]
     },
     "execution_count": 2,
     "metadata": {},
     "output_type": "execute_result"
    }
   ],
   "source": [
    "Hours=200/60.\n",
    "Hours"
   ]
  },
  {
   "cell_type": "markdown",
   "id": "50336043-cc7a-48b8-9e95-14530674441f",
   "metadata": {},
   "source": [
    "_Objectives_\n",
    "- Learn how to program in R and python\n",
    "- Learn how to use Jupyter and create a notebook\n",
    "- Learn how to use GitHub and create repository\n",
    "- Hadoop\n",
    "- Spark\n"
   ]
  },
  {
   "cell_type": "markdown",
   "id": "10062657-9d8a-42f4-887a-146a160b6472",
   "metadata": {},
   "source": [
    "# heading 2\n",
    "Author\n",
    "Ahmed Elatar"
   ]
  }
 ],
 "metadata": {
  "kernelspec": {
   "display_name": "Python 3 (ipykernel)",
   "language": "python",
   "name": "python3"
  },
  "language_info": {
   "codemirror_mode": {
    "name": "ipython",
    "version": 3
   },
   "file_extension": ".py",
   "mimetype": "text/x-python",
   "name": "python",
   "nbconvert_exporter": "python",
   "pygments_lexer": "ipython3",
   "version": "3.12.4"
  }
 },
 "nbformat": 4,
 "nbformat_minor": 5
}
